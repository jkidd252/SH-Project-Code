{
 "cells": [
  {
   "cell_type": "code",
   "execution_count": 5,
   "metadata": {},
   "outputs": [],
   "source": [
    "import math\n",
    "import matplotlib.pyplot as plt\n",
    "import numpy as np\n",
    "import pandas as pd\n",
    "\n",
    "from skimage.draw import ellipse\n",
    "from skimage.measure import label, regionprops, regionprops_table\n",
    "from skimage.transform import rotate\n",
    "\n",
    "\n",
    "image = np.zeros((600, 600))\n",
    "\n",
    "rr, cc = ellipse(300, 350, 100, 220)\n",
    "image[rr, cc] = 1\n",
    "\n",
    "#image = rotate(image, angle=-90, order=0)\n",
    "\n",
    "rr, cc = ellipse(100, 100, 80, 50)\n",
    "image[rr, cc] = 1\n",
    "\n",
    "image = rotate(image, angle=-80, order=0)\n",
    "\n",
    "label_img = label(image)\n",
    "regions = regionprops(label_img)"
   ]
  },
  {
   "cell_type": "code",
   "execution_count": 6,
   "metadata": {
    "slideshow": {
     "slide_type": "notes"
    }
   },
   "outputs": [
    {
     "name": "stdout",
     "output_type": "stream",
     "text": [
      "170.0216518746833\n",
      "hope 90.0251734022288\n",
      "-0.000439358738686325\n",
      "hello\n",
      "90.02517340222882\n"
     ]
    },
    {
     "data": {
      "image/png": "[encoded data removed]",
      "text/plain": [
       "<Figure size 640x480 with 1 Axes>"
      ]
     },
     "metadata": {},
     "output_type": "display_data"
    }
   ],
   "source": [
    "fig, ax = plt.subplots()\n",
    "ax.imshow(image, cmap=plt.cm.gray)\n",
    "\n",
    "for i in range(0,len(regions)):\n",
    "    props = regions[i]\n",
    "    y0, x0 = props.centroid\n",
    "    try:\n",
    "        r1, r0 = regions[i+1].centroid\n",
    "        pos_diff = np.sqrt((x0 - r0)**2 + (y0 - r1)**2)\n",
    "        ax.plot((r0, x0), (r1, y0), '-g', linewidth=2)\n",
    "        orient1 = props.orientation\n",
    "        \n",
    "        #print(orient1*180/np.pi)\n",
    "        orient2 = regions[i+1].orientation\n",
    "        #print(orient2*180/np.pi)\n",
    "        if abs(orient1) == orient1:\n",
    "            theta1 = 90 - orient1*180/np.pi\n",
    "        else:\n",
    "            a = -90 - orient1*180/np.pi\n",
    "            theta1 = 180 + a\n",
    "\n",
    "        print(theta1)\n",
    "        \n",
    "        if abs(orient2) == orient2:\n",
    "            theta2 = 90 - orient2*180/np.pi\n",
    "        else:\n",
    "            a = -90 - orient2*180/np.pi\n",
    "            theta2 = 180 + a\n",
    "\n",
    "        if theta1 >= theta2:\n",
    "            alignment = theta1 - theta2\n",
    "        elif theta2 > theta1:\n",
    "            alignment = theta2 - theta1\n",
    "        else:\n",
    "            break\n",
    "        \n",
    "        print('hope ' + str(alignment))\n",
    "        x2 = x0 - math.sin(orient1) * 0.5 * props.axis_major_length\n",
    "        y2 = y0 - math.cos(orient1) * 0.5 * props.axis_major_length\n",
    "\n",
    "        diff_x = x2 - x0\n",
    "        diff_y = y2 - y0\n",
    "        vector = np.array([diff_x, diff_y])\n",
    "\n",
    "        x_iplus = r0 - math.sin(orient2) * 0.5 * regions[i+1].axis_major_length\n",
    "        y_iplus = r1 - math.cos(orient2) * 0.5 * regions[i+1].axis_major_length\n",
    "\n",
    "        diff_xiplus = x_iplus - r0\n",
    "        diff_yiplus = y_iplus - r1\n",
    "        vector_iplus = np.array([diff_xiplus, diff_yiplus])\n",
    "\n",
    "        print(vector.dot(vector_iplus)/(np.linalg.norm(vector)*np.linalg.norm(vector_iplus)))\n",
    "\n",
    "        relative_align = np.arccos(vector.dot(vector_iplus)/(np.linalg.norm(vector)*np.linalg.norm(vector_iplus)))\n",
    "        print('hello')\n",
    "        print(relative_align*180/np.pi)\n",
    "\n",
    "    except:\n",
    "        r1, r0 = regions[i-1].centroid\n",
    "        pos_diff = np.sqrt((x0 - r0)**2 + (y0 - r1)**2)\n",
    "        ax.plot((x0, r0), (y0, r1), '--b', linewidth=2)\n",
    "\n",
    "        orientation = props.orientation\n",
    "        x1 = x0 + math.cos(orientation) * 0.5 * props.axis_minor_length\n",
    "        y1 = y0 - math.sin(orientation) * 0.5 * props.axis_minor_length\n",
    "        x2 = x0 - math.sin(orientation) * 0.5 * props.axis_major_length\n",
    "        y2 = y0 - math.cos(orientation) * 0.5 * props.axis_major_length\n",
    "\n",
    "        diff_x = x2 - x0\n",
    "        diff_y = y2 - y0\n",
    "\n",
    "    ax.plot((x0, x2), (y0, y2), '-r', linewidth=2.5)\n",
    "    ax.plot(x0, y0, '.g', markersize=15)\n",
    "    ax.plot(x2, y2, '.g', markersize=15)\n",
    "\n",
    "ax.axis((0, 600, 600, 0))\n",
    "plt.show()"
   ]
  },
  {
   "cell_type": "markdown",
   "metadata": {},
   "source": [
    "y- axis is the \"rows\" all major axis angles are calculated relative to it."
   ]
  },
  {
   "cell_type": "code",
   "execution_count": null,
   "metadata": {},
   "outputs": [],
   "source": []
  }
 ],
 "metadata": {
  "kernelspec": {
   "display_name": "Python 3 (ipykernel)",
   "language": "python",
   "name": "python3"
  },
  "language_info": {
   "codemirror_mode": {
    "name": "ipython",
    "version": 3
   },
   "file_extension": ".py",
   "mimetype": "text/x-python",
   "name": "python",
   "nbconvert_exporter": "python",
   "pygments_lexer": "ipython3",
   "version": "3.12.6"
  }
 },
 "nbformat": 4,
 "nbformat_minor": 4
}
